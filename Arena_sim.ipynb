{
 "cells": [
  {
   "cell_type": "code",
   "execution_count": 276,
   "metadata": {
    "collapsed": true
   },
   "outputs": [],
   "source": [
    "import numpy as np\n",
    "from scipy import special\n",
    "import matplotlib.pyplot as plt"
   ]
  },
  {
   "cell_type": "code",
   "execution_count": 43,
   "metadata": {
    "collapsed": true
   },
   "outputs": [],
   "source": [
    "%matplotlib inline "
   ]
  },
  {
   "cell_type": "code",
   "execution_count": null,
   "metadata": {
    "collapsed": true
   },
   "outputs": [],
   "source": [
    "P_golden_arr = [0.001, 0.005, 0.01, 0.02, 0.05]\n",
    "P_draft_arr = [0.001, 0.005, 0.01, 0.02, 0.05]\n",
    "\n",
    "saw_regular_arr = []\n",
    "saw_gold_arr = []\n",
    "\n",
    "for P_golden in P_golden_arr:\n",
    "    for P_draft_card in P_draft_arr:\n",
    "\n",
    "        #initialize parameters\n",
    "        saw_regular_morethan1=0\n",
    "        saw_regular_only1=0\n",
    "        saw_gold_morethan1=0\n",
    "        saw_gold_only1=0\n",
    "        \n",
    "        #1,000,000 iterations for each parameter set\n",
    "        for i in range(1000000):\n",
    "            \n",
    "            num_golden = np.random.poisson(P_golden)\n",
    "            #I only use draws where at least one copy is drafted in the deck for efficiency.  \n",
    "            #This doesn't make any difference in the results.  You could simply remove this requirement\n",
    "            #and increase the number of iterations used by 10 or 100 to achieve the same results.\n",
    "            drafted_num=0\n",
    "            while drafted_num<1:\n",
    "                drafted_num = np.random.binomial(30,P_draft_card)\n",
    "\n",
    "            #mark cards as golden or non-golden depending on num_golden\n",
    "            for j in range(drafted_num):\n",
    "                if num_golden > 0:\n",
    "                    draft.append('gold')\n",
    "                    num_golden-=1\n",
    "                else:\n",
    "                    draft.append('non-gold')\n",
    "\n",
    "            #shuffle order\n",
    "            np.random.shuffle(draft)\n",
    "\n",
    "            if card[0]=='non-gold':\n",
    "                if draft.count('non-gold')+draft.count('gold')>1:\n",
    "                    saw_regular_morethan1 +=1\n",
    "                else:\n",
    "                    saw_regular_only1 +=1\n",
    "\n",
    "            if card[0]=='gold':\n",
    "                if draft.count('non-gold')+draft.count('gold')>1:\n",
    "                    saw_gold_morethan1 +=1\n",
    "                else:\n",
    "                    saw_gold_only1 +=1\n",
    "        \n",
    "        saw_regular_morethan1_prob = saw_regular_morethan1/float(saw_regular_morethan1+saw_regular_only1)\n",
    "        saw_gold_morethan1_prob = saw_gold_morethan1/float(saw_gold_morethan1+saw_gold_only1)\n",
    "        \n",
    "        saw_regular_arr.append(saw_regular_morethan1_prob)\n",
    "        saw_gold_arr.append(saw_gold_morethan1_prob)"
   ]
  },
  {
   "cell_type": "code",
   "execution_count": 270,
   "metadata": {
    "collapsed": false
   },
   "outputs": [
    {
     "name": "stdout",
     "output_type": "stream",
     "text": [
      "p_golden   p_draft   p_saw_regular   p_saw_gold   difference   ratio\n",
      "0.001       0.001       0.014           0.002      0.012       7.21\n",
      "0.001       0.005       0.071           0.034      0.037       2.11\n",
      "0.001       0.010       0.139           0.074      0.065       1.88\n",
      "0.001       0.020       0.266           0.144      0.121       1.84\n",
      "0.001       0.050       0.568           0.345      0.224       1.65\n",
      "0.005       0.001       0.014           0.008      0.007       1.89\n",
      "0.005       0.005       0.071           0.032      0.039       2.22\n",
      "0.005       0.010       0.139           0.071      0.067       1.94\n",
      "0.005       0.020       0.266           0.146      0.119       1.81\n",
      "0.005       0.050       0.569           0.362      0.207       1.57\n",
      "0.010       0.001       0.014           0.007      0.008       2.08\n",
      "0.010       0.005       0.072           0.040      0.032       1.80\n",
      "0.010       0.010       0.140           0.073      0.067       1.92\n",
      "0.010       0.020       0.266           0.147      0.119       1.81\n",
      "0.010       0.050       0.570           0.359      0.210       1.59\n",
      "0.020       0.001       0.015           0.006      0.008       2.35\n",
      "0.020       0.005       0.072           0.036      0.035       1.97\n",
      "0.020       0.010       0.141           0.076      0.065       1.86\n",
      "0.020       0.020       0.268           0.149      0.119       1.79\n",
      "0.020       0.050       0.571           0.356      0.215       1.60\n",
      "0.050       0.001       0.015           0.008      0.007       1.89\n",
      "0.050       0.005       0.072           0.036      0.036       1.98\n",
      "0.050       0.010       0.142           0.075      0.067       1.89\n",
      "0.050       0.020       0.271           0.149      0.122       1.82\n",
      "0.050       0.050       0.575           0.363      0.212       1.58\n"
     ]
    }
   ],
   "source": [
    "i=0\n",
    "print 'p_golden  ','p_draft  ','p_saw_regular  ','p_saw_gold  ','difference  ','ratio'\n",
    "for P_golden in P_golden_arr:\n",
    "    for P_draft_card in P_draft_arr:\n",
    "        print '%.3f       %.3f       %.3f           %.3f      %.3f       %.2f' % \\\n",
    "        (P_golden, P_draft_card, saw_regular_arr[i], saw_gold_arr[i],\n",
    "         saw_regular_arr[i]-saw_gold_arr[i], saw_regular_arr[i]/saw_gold_arr[i])\n",
    "        i+=1"
   ]
  },
  {
   "cell_type": "code",
   "execution_count": 285,
   "metadata": {
    "collapsed": true
   },
   "outputs": [],
   "source": [
    "def binom(k,n,p):\n",
    "    return special.binom(n,k) * p**k * (1-p)**(n-k)"
   ]
  },
  {
   "cell_type": "code",
   "execution_count": 308,
   "metadata": {
    "collapsed": true
   },
   "outputs": [],
   "source": [
    "def pos(k,lam):\n",
    "    return lam**k * np.e**(-1*lam) / (np.math.factorial(k))"
   ]
  },
  {
   "cell_type": "code",
   "execution_count": 332,
   "metadata": {
    "collapsed": false
   },
   "outputs": [
    {
     "data": {
      "image/png": "[encoded data removed]",
      "text/plain": [
       "<matplotlib.figure.Figure at 0x125f58f50>"
      ]
     },
     "metadata": {},
     "output_type": "display_data"
    }
   ],
   "source": [
    "plt.plot(range(0,6),[binom(k,30,0.01) for k in range(0,6)],'bo',ms=7)\n",
    "plt.xlim(-.1,5.1)\n",
    "plt.title('Binomial Distribution n=30 p=0.01')\n",
    "plt.ylabel('Probability')\n",
    "plt.xlabel('Number drafted in deck')\n",
    "plt.savefig('binom.png')\n",
    "plt.show()"
   ]
  },
  {
   "cell_type": "code",
   "execution_count": 307,
   "metadata": {
    "collapsed": false
   },
   "outputs": [
    {
     "data": {
      "text/plain": [
       "<matplotlib.text.Text at 0x123910290>"
      ]
     },
     "execution_count": 307,
     "metadata": {},
     "output_type": "execute_result"
    },
    {
     "data": {
      "image/png": "[encoded data removed]",
      "text/plain": [
       "<matplotlib.figure.Figure at 0x123a14b50>"
      ]
     },
     "metadata": {},
     "output_type": "display_data"
    }
   ],
   "source": [
    "plt.plot(range(0,6),[binom(k,30,0.01) for k in range(0,6)],'bo')\n",
    "plt.yscale('log')\n",
    "plt.ylim(1e-5,1)\n",
    "plt.xlim(-.1,5.1)\n",
    "plt.title('Binomial Distribution n=30 p=0.01')\n",
    "plt.ylabel('Probability')\n",
    "plt.xlabel('Number drafted in deck')\n",
    "plt.show()"
   ]
  },
  {
   "cell_type": "code",
   "execution_count": 314,
   "metadata": {
    "collapsed": false
   },
   "outputs": [
    {
     "data": {
      "text/plain": [
       "<matplotlib.text.Text at 0x1242f4690>"
      ]
     },
     "execution_count": 314,
     "metadata": {},
     "output_type": "execute_result"
    },
    {
     "data": {
      "image/png": "[encoded data removed]",
      "text/plain": [
       "<matplotlib.figure.Figure at 0x12441b510>"
      ]
     },
     "metadata": {},
     "output_type": "display_data"
    }
   ],
   "source": [
    "plt.plot(range(0,6),[pos(k,0.1) for k in range(0,6)],'bo',ms=7)\n",
    "plt.xlim(-.1,5.1)\n",
    "plt.title('Binomial Distribution n=30 p=0.01')\n",
    "plt.ylabel('Probability')\n",
    "plt.xlabel('Number drafted in deck')\n",
    "plt.show()"
   ]
  },
  {
   "cell_type": "code",
   "execution_count": 331,
   "metadata": {
    "collapsed": false
   },
   "outputs": [
    {
     "data": {
      "image/png": "[encoded data removed]",
      "text/plain": [
       "<matplotlib.figure.Figure at 0x125f58a10>"
      ]
     },
     "metadata": {},
     "output_type": "display_data"
    }
   ],
   "source": [
    "plt.plot(range(0,6),[pos(k,0.01) for k in range(0,6)],'bo',ms=7)\n",
    "plt.yscale('log')\n",
    "plt.ylim(1e-7,1)\n",
    "plt.xlim(-.1,4.1)\n",
    "plt.title('Poisson distribution lambda=0.01')\n",
    "plt.ylabel('Probability')\n",
    "plt.xlabel('Number of golden copies')\n",
    "plt.savefig('poisson.png')\n",
    "plt.show()"
   ]
  },
  {
   "cell_type": "code",
   "execution_count": null,
   "metadata": {
    "collapsed": true
   },
   "outputs": [],
   "source": []
  }
 ],
 "metadata": {
  "kernelspec": {
   "display_name": "Python 2",
   "language": "python",
   "name": "python2"
  },
  "language_info": {
   "codemirror_mode": {
    "name": "ipython",
    "version": 2
   },
   "file_extension": ".py",
   "mimetype": "text/x-python",
   "name": "python",
   "nbconvert_exporter": "python",
   "pygments_lexer": "ipython2",
   "version": "2.7.11"
  }
 },
 "nbformat": 4,
 "nbformat_minor": 0
}
